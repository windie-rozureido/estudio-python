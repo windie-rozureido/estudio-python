{
 "cells": [
  {
   "cell_type": "markdown",
   "id": "8e967a62-1cc1-4a1d-b1ba-8f7f082f34f6",
   "metadata": {},
   "source": [
    "# Logica simbolica con Python\n",
    "\n",
    "Las operaciones lógicas son fundamentales para la computación y los lenguajes de programación; formalmente se describen con [algebra booleana](https://es.wikipedia.org/wiki/%C3%81lgebra_de_Boole).\n",
    "\n",
    "En python, puedes crear expresiones lógicas con los siguientes operadores \n",
    "\n",
    "| Operador | Simbolo |\n",
    "| ----------- | ----------- |\n",
    "| Conjuncion | & |\n",
    "| Disyuncion | \\| |\n",
    "| Negación | ~ |\n",
    "| Implicación | >> |"
   ]
  },
  {
   "cell_type": "markdown",
   "id": "2fb27e1e-b5dc-4500-87c5-b6e79c737bda",
   "metadata": {},
   "source": [
    "### Tablas de verdad en Python\n",
    "\n",
    "Para crear tablas de verdad en Python se utiliza la función _truth_table_ de la librería _sympy_."
   ]
  },
  {
   "cell_type": "code",
   "execution_count": 9,
   "id": "df2f4573-1a88-44be-97e3-ae8c8df95d6e",
   "metadata": {},
   "outputs": [],
   "source": [
    "from sympy.logic.boolalg import truth_table"
   ]
  },
  {
   "cell_type": "markdown",
   "id": "ed00998f-170b-4333-855e-57b985c86f31",
   "metadata": {},
   "source": [
    "La función _truth_table(expresión, variables)_ tiene dos argumentos explícitos: \n",
    "1. _expresión_ es la proposición compuesta a evaluar;\n",
    "2. _variables_ es la lista de proposiciones simples que forman la proposición compuesta _expresión_.\n",
    "\n",
    "Hagamos por ejemplo la tabla de verdad de la siguiente expresión,\n",
    "\n",
    "\\begin{equation}\n",
    "p \\land \\neg q \\implies r.\n",
    "\\end{equation}\n",
    "\n",
    "Primero hay que escribir la expresión en el lenguaje de python, p & ~q >> r. En este caso la lista de variables sería [p, q, r]\n"
   ]
  },
  {
   "cell_type": "code",
   "execution_count": 18,
   "id": "20a31bb2-03c0-4687-8832-f5864d0a00e0",
   "metadata": {},
   "outputs": [
    {
     "name": "stdout",
     "output_type": "stream",
     "text": [
      "[0, 0, 0] -> False\n",
      "[0, 0, 1] -> False\n",
      "[0, 1, 0] -> False\n",
      "[0, 1, 1] -> False\n",
      "[1, 0, 0] -> False\n",
      "[1, 0, 1] -> True\n",
      "[1, 1, 0] -> True\n",
      "[1, 1, 1] -> True\n"
     ]
    }
   ],
   "source": [
    "from sympy.abc import p, q, r # Se definen los simbolos para las proposiciones simples\n",
    "\n",
    "table = truth_table( p & ~q >> r, [p, q, r] ) # Se manda a llamar la funcion truth_table\n",
    "\n",
    "for t in table: \n",
    "    print('{0} -> {1}'.format(*t)) # Este ciclo se hace para imprimir el resultado."
   ]
  },
  {
   "cell_type": "markdown",
   "id": "a0f52110-c0f9-45a6-a27e-7d15870ab293",
   "metadata": {},
   "source": [
    "### Verificando equivalencias logicas\n",
    "\n",
    "La siguiente funcion compara dos tablas de verdad, generadas previamente con _truth_table_ y devuelve _True_ si las tablas son equivalentes y _False_ en el caso contrario."
   ]
  },
  {
   "cell_type": "code",
   "execution_count": 66,
   "id": "89c20d3a-c02f-4e39-aaaa-0f1fa6083bba",
   "metadata": {},
   "outputs": [],
   "source": [
    "def esEquivalente( table1, table2 ):\n",
    "    for t1 in table1: #Recorre las filas de la tabla 1\n",
    "        for t2 in table2: # Recorre las filas de la tabla 2\n",
    "            if t1[0] == t2[0] and t1[1] != t2[1]:\n",
    "                return False # Regresa False si no coinciden las tablas en al menos una fila.\n",
    "    return True # Si llego hasta aca es porque coincidieron en todas las filas."
   ]
  },
  {
   "cell_type": "markdown",
   "id": "0e2d332a-204a-45f7-8138-227ff1421164",
   "metadata": {},
   "source": [
    "El siguiente bloque verifica la equivalencia, $$ p\\Rightarrow q \\equiv \\neg p \\lor q$$"
   ]
  },
  {
   "cell_type": "code",
   "execution_count": 67,
   "id": "7da3a76d-f532-4b0e-be8d-74a74bf1cc31",
   "metadata": {},
   "outputs": [
    {
     "data": {
      "text/plain": [
       "True"
      ]
     },
     "execution_count": 67,
     "metadata": {},
     "output_type": "execute_result"
    }
   ],
   "source": [
    "table1 = truth_table( p>>q , [p,q]) # se crea la tabla de verdad para p implica q\n",
    "table2 = truth_table( ~p|q , [p,q]) # se crea la tabla de verdad para no p o q\n",
    "esEquivalente(table1, table2) # se comparan las tablas de verdad"
   ]
  },
  {
   "cell_type": "markdown",
   "id": "38b8d286-89f8-456d-b9b1-5251b3682beb",
   "metadata": {},
   "source": [
    "## Ejercicio\n",
    "\n",
    "Verifica las leyes de De Morgan $$\\neg (p \\land q) \\equiv \\neg p \\lor \\neg q$$ y $$\\neg (p \\lor q) \\equiv \\neg p \\land \\neg q$$, utilizando la funcion _esEquivalente_. Imprime en pantalla las tablas de verdad que utilices.\n",
    " "
   ]
  }
 ],
 "metadata": {
  "kernelspec": {
   "display_name": "Python 3 (ipykernel)",
   "language": "python",
   "name": "python3"
  },
  "language_info": {
   "codemirror_mode": {
    "name": "ipython",
    "version": 3
   },
   "file_extension": ".py",
   "mimetype": "text/x-python",
   "name": "python",
   "nbconvert_exporter": "python",
   "pygments_lexer": "ipython3",
   "version": "3.11.5"
  }
 },
 "nbformat": 4,
 "nbformat_minor": 5
}
